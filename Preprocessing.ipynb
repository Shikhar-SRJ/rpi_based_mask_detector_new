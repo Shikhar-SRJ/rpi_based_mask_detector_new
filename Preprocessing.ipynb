{
 "cells": [
  {
   "cell_type": "code",
   "execution_count": 1,
   "metadata": {},
   "outputs": [
    {
     "name": "stdout",
     "output_type": "stream",
     "text": [
      "['with mask', 'without mask']\n",
      "[0, 1]\n",
      "{'with mask': 0, 'without mask': 1}\n"
     ]
    }
   ],
   "source": [
    "import cv2, os\n",
    "\n",
    "data_path = 'dataset'\n",
    "\n",
    "categories = os.listdir(data_path)\n",
    "labels = [i for i in range(len(categories))]\n",
    "label_dict = dict(zip(categories, labels))\n",
    "\n",
    "print(categories)\n",
    "print(labels)\n",
    "print(label_dict)"
   ]
  },
  {
   "cell_type": "code",
   "execution_count": 2,
   "metadata": {},
   "outputs": [],
   "source": [
    "img_size=100\n",
    "data = []\n",
    "target = []\n",
    "\n",
    "for category in categories:\n",
    "    folder_path=os.path.join(data_path, category)\n",
    "    img_names = os.listdir(folder_path)\n",
    "    \n",
    "    for img_name in img_names:\n",
    "        img_path = os.path.join(folder_path, img_name)\n",
    "        img = cv2.imread(img_path)\n",
    "        \n",
    "        try:\n",
    "            gray = cv2.cvtColor(img, cv2.COLOR_BGR2GRAY)\n",
    "            resized = cv2.resize(gray,(img_size, img_size))\n",
    "            data.append(resized)\n",
    "            target.append(label_dict[category])\n",
    "        \n",
    "        except exception as e:\n",
    "            print(\"Exception\", e)\n",
    "        \n"
   ]
  },
  {
   "cell_type": "code",
   "execution_count": 3,
   "metadata": {},
   "outputs": [],
   "source": [
    "import numpy as np\n",
    "\n",
    "data = np.array(data)/255.0\n",
    "data = np.reshape(data, (data.shape[0], img_size, img_size,1))\n",
    "target = np.array(target)\n",
    "\n",
    "from keras.utils import np_utils\n",
    "new_target = np_utils.to_categorical(target)"
   ]
  },
  {
   "cell_type": "code",
   "execution_count": 4,
   "metadata": {},
   "outputs": [],
   "source": [
    "np.save(\"data\",data)\n",
    "np.save(\"target\", new_target)"
   ]
  },
  {
   "cell_type": "code",
   "execution_count": null,
   "metadata": {},
   "outputs": [],
   "source": []
  }
 ],
 "metadata": {
  "kernelspec": {
   "display_name": "Python 3",
   "language": "python",
   "name": "python3"
  },
  "language_info": {
   "codemirror_mode": {
    "name": "ipython",
    "version": 3
   },
   "file_extension": ".py",
   "mimetype": "text/x-python",
   "name": "python",
   "nbconvert_exporter": "python",
   "pygments_lexer": "ipython3",
   "version": "3.6.9"
  }
 },
 "nbformat": 4,
 "nbformat_minor": 4
}
